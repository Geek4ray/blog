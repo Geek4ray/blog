{
  "nbformat": 4,
  "nbformat_minor": 0,
  "metadata": {
    "colab": {
      "name": "2021-11-21-Explaining MinGPT.ipynb",
      "provenance": [],
      "authorship_tag": "ABX9TyMNX6K3eGCy4ZtPa0YUzKyX"
    },
    "kernelspec": {
      "name": "python3",
      "display_name": "Python 3"
    },
    "language_info": {
      "name": "python"
    }
  },
  "cells": [
    {
      "cell_type": "markdown",
      "metadata": {
        "id": "5ytIxWwZ2Q54"
      },
      "source": [
        "# Explaining MinGPT \n",
        "> This blog explains MinGPT Model implementation on Addition Data, by <a href=\"https://github.com/karpathy/minGPT\">Andrej Karpathy</a>.\n",
        "\n",
        "- toc: true \n",
        "- badges: true\n",
        "- comments: true\n",
        "- sticky_rank: 1\n",
        "- author: Rayan\n",
        "- image: images/diagram.png\n",
        "- categories: [MinGPT, transformars]"
      ]
    },
    {
      "cell_type": "markdown",
      "metadata": {
        "id": "wZ5Rw95LEHSM"
      },
      "source": [
        "> `Objective : \"To Train a GPT model on a dedicated addition dataset to see if a Transformer can learn to add.\"`\n",
        "\n",
        "Our Objective is inspired by the addition section in the GPT-3 paper (Language Models are a few shot learners)- https://arxiv.org/pdf/2005.14165v4.pdf"
      ]
    },
    {
      "cell_type": "code",
      "metadata": {
        "id": "pX27-hv_GrkK"
      },
      "source": [
        ""
      ],
      "execution_count": null,
      "outputs": []
    }
  ]
}