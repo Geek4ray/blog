{
  "nbformat": 4,
  "nbformat_minor": 0,
  "metadata": {
    "colab": {
      "name": "AI Algorithms.ipynb",
      "provenance": [],
      "collapsed_sections": [
        "29DYJv0ZfC6c"
      ],
      "authorship_tag": "ABX9TyN/vHvIPijENhkFfb4GOo70"
    },
    "kernelspec": {
      "name": "python3",
      "display_name": "Python 3"
    },
    "language_info": {
      "name": "python"
    }
  },
  "cells": [
    {
      "cell_type": "markdown",
      "metadata": {
        "id": "8vVi3fsLX_E9"
      },
      "source": [
        "# Building Complex AI Algorithms from scratch \n",
        "> Ref. Taken from <a href=\"http://cs229.stanford.edu/#info\">CS229</a> and <a href=\"https://www.fast.ai/\">Fastai</a> Courses. \n",
        "- toc: true \n",
        "- badges: true\n",
        "- comments: true\n",
        "- sticky_rank: 1\n",
        "- author: Rayan Kejriwal\n",
        "- image: images/diagram.png\n",
        "- categories: [AI, Algorithms]"
      ]
    },
    {
      "cell_type": "code",
      "metadata": {
        "id": "2EgagFqyeX05"
      },
      "source": [
        "#hide\n",
        "import torch\n",
        "from torch import tensor\n",
        "import matplotlib.pyplot as plt\n",
        "import numpy as np\n",
        "import pandas as pd\n",
        "import torch.nn.functional as F"
      ],
      "execution_count": 2,
      "outputs": []
    },
    {
      "cell_type": "markdown",
      "metadata": {
        "id": "29DYJv0ZfC6c"
      },
      "source": [
        "# Lets talk about basic SGD in Pytorch "
      ]
    },
    {
      "cell_type": "code",
      "metadata": {
        "id": "CTFN4o0-emRW"
      },
      "source": [
        "def f(x): return x**2"
      ],
      "execution_count": 2,
      "outputs": []
    },
    {
      "cell_type": "code",
      "metadata": {
        "id": "6h_YJMaJfYuG"
      },
      "source": [
        "# The parameter we need gradient for (weights which we need to update) -> we do requires_grad_()\n",
        "xt = tensor(3.).requires_grad_()"
      ],
      "execution_count": 6,
      "outputs": []
    },
    {
      "cell_type": "markdown",
      "metadata": {
        "id": "diRViMqVjMd0"
      },
      "source": [
        "Notice the special method `requires_grad_`? That's the magical incantation we use to tell PyTorch that we want to calculate gradients with respect to that variable at that value. It is essentially tagging the variable, so PyTorch will remember to keep track of how to compute gradients of the other, direct calculations on it that you will ask for."
      ]
    },
    {
      "cell_type": "code",
      "metadata": {
        "id": "U4Uk2H6iiCuB"
      },
      "source": [
        "yt = f(xt)"
      ],
      "execution_count": 17,
      "outputs": []
    },
    {
      "cell_type": "code",
      "metadata": {
        "id": "Q5k-cOR6iWq6"
      },
      "source": [
        "yt.backward()"
      ],
      "execution_count": 18,
      "outputs": []
    },
    {
      "cell_type": "markdown",
      "metadata": {
        "id": "epnD9a53jah_"
      },
      "source": [
        "The \"backward\" here refers to *backpropagation*, which is the name given to the process of calculating the derivative of each layer (in case of neural network)."
      ]
    },
    {
      "cell_type": "code",
      "metadata": {
        "colab": {
          "base_uri": "https://localhost:8080/"
        },
        "id": "UdHbcBtbiZB-",
        "outputId": "c9457f57-1f66-4417-ff2a-be072facdea4"
      },
      "source": [
        "xt.grad #(This grad arrtibute accumulates the gradient at the variable x and keeps adding them consecutively unless you zero out the recent grads by using **zero_grad** arrtibute."
      ],
      "execution_count": 19,
      "outputs": [
        {
          "output_type": "execute_result",
          "data": {
            "text/plain": [
              "tensor(6.)"
            ]
          },
          "metadata": {},
          "execution_count": 19
        }
      ]
    },
    {
      "cell_type": "code",
      "metadata": {
        "colab": {
          "base_uri": "https://localhost:8080/"
        },
        "id": "zoltyNozjzrH",
        "outputId": "2501db1c-998d-476d-9af4-fd3d7c265f7e"
      },
      "source": [
        "xt.grad.zero_()"
      ],
      "execution_count": 16,
      "outputs": [
        {
          "output_type": "execute_result",
          "data": {
            "text/plain": [
              "tensor(0.)"
            ]
          },
          "metadata": {},
          "execution_count": 16
        }
      ]
    },
    {
      "cell_type": "markdown",
      "metadata": {
        "id": "bhWvVl33lbX_"
      },
      "source": [
        "Now we can try with a vector : "
      ]
    },
    {
      "cell_type": "code",
      "metadata": {
        "id": "66jnRGLlmLi3"
      },
      "source": [
        "def f(x): return (x**2).sum()"
      ],
      "execution_count": 42,
      "outputs": []
    },
    {
      "cell_type": "code",
      "metadata": {
        "id": "L6Z772YKlugu"
      },
      "source": [
        "def calc_grad(x,f):\n",
        "  y=f(x)\n",
        "  y.backward()\n",
        "  print(x.grad)\n",
        "  x.grad.zero_()"
      ],
      "execution_count": 43,
      "outputs": []
    },
    {
      "cell_type": "code",
      "metadata": {
        "colab": {
          "base_uri": "https://localhost:8080/"
        },
        "id": "qIr_QiLsluoL",
        "outputId": "66e90a52-e65b-4b9a-ec28-d60788194e96"
      },
      "source": [
        "calc_grad(tensor([3.,4.,5.],requires_grad=True),f)"
      ],
      "execution_count": 46,
      "outputs": [
        {
          "output_type": "stream",
          "name": "stdout",
          "text": [
            "tensor([ 6.,  8., 10.])\n"
          ]
        }
      ]
    },
    {
      "cell_type": "markdown",
      "metadata": {
        "id": "WfvlvaYPnBhR"
      },
      "source": [
        "As we can see, we got right results! One thing is to notice that tensors always accept floating points and the `grad can be implicitly created only for scalar outputs` therefore the `function f` must return a scalar thats why we did apply `.sum()`. "
      ]
    },
    {
      "cell_type": "markdown",
      "metadata": {
        "id": "Qosg6_tdluuo"
      },
      "source": [
        "Lets Take Another End-To-End Example of SGD"
      ]
    },
    {
      "cell_type": "code",
      "metadata": {
        "id": "cUl2mmvJ-hM0"
      },
      "source": [
        "#Defining our X variable -> time\n",
        "time = torch.arange(20).float()\n",
        "time"
      ],
      "execution_count": null,
      "outputs": []
    },
    {
      "cell_type": "code",
      "metadata": {
        "colab": {
          "base_uri": "https://localhost:8080/",
          "height": 0
        },
        "id": "B06ZtAUmxE7q",
        "outputId": "68678aa1-b779-4141-d67b-7850696de7c5"
      },
      "source": [
        "# Defining our Y variable -> speed\n",
        "speed = torch.randn(20)*3 + 0.75*(time-9.5)**2 + 1\n",
        "plt.scatter(time,speed);"
      ],
      "execution_count": 63,
      "outputs": [
        {
          "output_type": "display_data",
          "data": {
            "image/png": "[encoded data removed]",
            "text/plain": [
              "<Figure size 432x288 with 1 Axes>"
            ]
          },
          "metadata": {
            "needs_background": "light"
          }
        }
      ]
    },
    {
      "cell_type": "code",
      "metadata": {
        "id": "Ba3pylA4lu3B"
      },
      "source": [
        "def f(t, params):\n",
        "  a,b,c=params\n",
        "  return a*(t**2) + b*t + c"
      ],
      "execution_count": 48,
      "outputs": []
    },
    {
      "cell_type": "code",
      "metadata": {
        "colab": {
          "base_uri": "https://localhost:8080/"
        },
        "id": "Z9pp9KGztykX",
        "outputId": "19019084-6aed-4250-f7ab-07caaff3aa6a"
      },
      "source": [
        "# Initiate Parameters\n",
        "params = torch.randn(3).requires_grad_()\n",
        "orig_params = params.clone() # Clone method will also copy autograd func.\n",
        "orig_params"
      ],
      "execution_count": 57,
      "outputs": [
        {
          "output_type": "execute_result",
          "data": {
            "text/plain": [
              "tensor([0.2193, 0.4842, 0.5411], grad_fn=<CloneBackward>)"
            ]
          },
          "metadata": {},
          "execution_count": 57
        }
      ]
    },
    {
      "cell_type": "code",
      "metadata": {
        "id": "lh5ztNqJvWU4"
      },
      "source": [
        "# Now calculate preds\n",
        "preds = f(time, params)"
      ],
      "execution_count": 58,
      "outputs": []
    },
    {
      "cell_type": "markdown",
      "metadata": {
        "id": "v1spPTwJv-GA"
      },
      "source": [
        "Let's create a little function to see how close our predictions are to our targets, and take a look:"
      ]
    },
    {
      "cell_type": "code",
      "metadata": {
        "id": "B92s8PHywAXn"
      },
      "source": [
        "def show_preds(preds, ax=None):\n",
        "  if ax is None: ax=plt.subplots()[1]\n",
        "  ax.scatter(time, speed)\n",
        "  ax.scatter(time, (preds).detach().numpy(), color='red')\n",
        "  ax.set_ylim(-300,100)"
      ],
      "execution_count": 72,
      "outputs": []
    },
    {
      "cell_type": "code",
      "metadata": {
        "colab": {
          "base_uri": "https://localhost:8080/",
          "height": 0
        },
        "id": "Zo6Hwkf_yhTf",
        "outputId": "a1b632df-9b1f-4c4a-cdac-1257f9464a1e"
      },
      "source": [
        "show_preds(preds)"
      ],
      "execution_count": 73,
      "outputs": [
        {
          "output_type": "display_data",
          "data": {
            "image/png": "[encoded data removed]",
            "text/plain": [
              "<Figure size 432x288 with 1 Axes>"
            ]
          },
          "metadata": {
            "needs_background": "light"
          }
        }
      ]
    },
    {
      "cell_type": "code",
      "metadata": {
        "colab": {
          "base_uri": "https://localhost:8080/"
        },
        "id": "CAUkpLAv4eNH",
        "outputId": "5c8eef99-6c5e-4be4-865e-7d0b068b4fb3"
      },
      "source": [
        "# We calculate the loss as follows:\n",
        "loss = F.mse_loss(preds,speed)\n",
        "loss"
      ],
      "execution_count": 79,
      "outputs": [
        {
          "output_type": "execute_result",
          "data": {
            "text/plain": [
              "tensor(1017.8171, grad_fn=<MseLossBackward>)"
            ]
          },
          "metadata": {},
          "execution_count": 79
        }
      ]
    },
    {
      "cell_type": "markdown",
      "metadata": {
        "id": "c8MrSPM27wAZ"
      },
      "source": [
        "Our Goal is to now improve this loss. The next step is to calculate the gradients.\n"
      ]
    },
    {
      "cell_type": "code",
      "metadata": {
        "colab": {
          "base_uri": "https://localhost:8080/"
        },
        "id": "1j8J65En6yNB",
        "outputId": "407dc8a5-c47e-44e2-9ef0-30ba04e569ed"
      },
      "source": [
        "loss.backward() # .backward() method is applied on the variable of which we want to calculate gradient. \n",
        "params.grad # gradient is calculated w.r.t params ->(a,b,c)"
      ],
      "execution_count": 80,
      "outputs": [
        {
          "output_type": "execute_result",
          "data": {
            "text/plain": [
              "tensor([6582.9756,  437.4914,   13.7502])"
            ]
          },
          "metadata": {},
          "execution_count": 80
        }
      ]
    },
    {
      "cell_type": "code",
      "metadata": {
        "colab": {
          "base_uri": "https://localhost:8080/"
        },
        "id": "aWoISJjj69fL",
        "outputId": "31d43bbd-e925-4c34-daf1-4cee262bd710"
      },
      "source": [
        "# We can use these gradients to improve our parameters. We'll need to pick a learning rate\n",
        "lr = 1e-5\n",
        "params.grad * lr"
      ],
      "execution_count": 81,
      "outputs": [
        {
          "output_type": "execute_result",
          "data": {
            "text/plain": [
              "tensor([0.0658, 0.0044, 0.0001])"
            ]
          },
          "metadata": {},
          "execution_count": 81
        }
      ]
    },
    {
      "cell_type": "code",
      "metadata": {
        "id": "QtQlE9-r69m-"
      },
      "source": [
        "# Stepping/Updating the weights/parameters\n",
        "params.data -= params.grad.data*lr"
      ],
      "execution_count": 82,
      "outputs": []
    },
    {
      "cell_type": "code",
      "metadata": {
        "id": "JK4qIJc186MI"
      },
      "source": [
        "# Setting the gradients to zero after 1 step so that they may not accumulate\n",
        "params.grad = None"
      ],
      "execution_count": 83,
      "outputs": []
    },
    {
      "cell_type": "markdown",
      "metadata": {
        "id": "HcocUD-69FQm"
      },
      "source": [
        "> Understanding this bit depends on remembering recent history. To calculate the gradients we call backward on the loss. But this loss was itself calculated by mse, which in turn took preds as an input, which was calculated using f taking as an input params, which was the object on which we originally called required_grads_—which is the original call that now allows us to call backward on loss. This chain of function calls represents the mathematical composition of functions, which enables PyTorch to use calculus's chain rule under the hood to calculate these gradients."
      ]
    },
    {
      "cell_type": "code",
      "metadata": {
        "colab": {
          "base_uri": "https://localhost:8080/"
        },
        "id": "abwP55_X9PLe",
        "outputId": "76d90084-51db-4fad-d7f1-dbcc284a0000"
      },
      "source": [
        "# Lets see if the loss has imporved after updating our params(a,b,c):\n",
        "preds = f(time,params)\n",
        "F.mse_loss(preds,speed)"
      ],
      "execution_count": 87,
      "outputs": [
        {
          "output_type": "execute_result",
          "data": {
            "text/plain": [
              "tensor(705.5072, grad_fn=<MseLossBackward>)"
            ]
          },
          "metadata": {},
          "execution_count": 87
        }
      ]
    },
    {
      "cell_type": "code",
      "metadata": {
        "colab": {
          "base_uri": "https://localhost:8080/",
          "height": 0
        },
        "id": "yqL-4ZZs9yEV",
        "outputId": "706f4c6c-4721-4ea0-b663-f090f6152089"
      },
      "source": [
        "show_preds(preds)"
      ],
      "execution_count": 88,
      "outputs": [
        {
          "output_type": "display_data",
          "data": {
            "image/png": "[encoded data removed]",
            "text/plain": [
              "<Figure size 432x288 with 1 Axes>"
            ]
          },
          "metadata": {
            "needs_background": "light"
          }
        }
      ]
    },
    {
      "cell_type": "code",
      "metadata": {
        "id": "HFUN0uso-_ud"
      },
      "source": [
        "#Now collecting everything altogether in a function :\n",
        "def apply_step(params,prn=True):\n",
        "  preds = f(time,params)\n",
        "  loss = F.mse_loss(preds,speed)\n",
        "  loss.backward()\n",
        "  params.data -= params.grad.data*1e-5\n",
        "  params.grad = None\n",
        "  if prn: print(loss.item()) #In this case our Metric is same as loss function \n",
        "  return preds"
      ],
      "execution_count": 107,
      "outputs": []
    },
    {
      "cell_type": "code",
      "metadata": {
        "colab": {
          "base_uri": "https://localhost:8080/"
        },
        "id": "KfDBlrZbBTf5",
        "outputId": "0b053256-4fd2-4a2e-987f-9048eb87a8a9"
      },
      "source": [
        "for i in range(10): apply_step(params)"
      ],
      "execution_count": 95,
      "outputs": [
        {
          "output_type": "stream",
          "name": "stdout",
          "text": [
            "646.4049072265625\n",
            "642.8947143554688\n",
            "634.5457153320312\n",
            "632.962158203125\n",
            "632.65869140625\n",
            "632.5977172851562\n",
            "632.5823974609375\n",
            "632.5758666992188\n",
            "632.5709228515625\n",
            "632.5662841796875\n"
          ]
        }
      ]
    },
    {
      "cell_type": "markdown",
      "metadata": {
        "id": "Qd286i6wDx_x"
      },
      "source": [
        "We just decided to stop after 10 epochs arbitrarily. In practice, we would watch the training and validation losses and our metrics to decide when to stop"
      ]
    },
    {
      "cell_type": "code",
      "metadata": {
        "colab": {
          "base_uri": "https://localhost:8080/",
          "height": 0
        },
        "id": "7rzWRRnTBc_I",
        "outputId": "fbf8ca2b-0547-45dd-83d4-66fe4f961712"
      },
      "source": [
        "params = torch.randn(3).requires_grad_()\n",
        "_,axs = plt.subplots(1,8,figsize=(24,3))\n",
        "for ax in axs: show_preds(apply_step(params, False), ax)\n",
        "plt.tight_layout()"
      ],
      "execution_count": 106,
      "outputs": [
        {
          "output_type": "display_data",
          "data": {
            "image/png": "[encoded data removed]",
            "text/plain": [
              "<Figure size 1728x216 with 8 Axes>"
            ]
          },
          "metadata": {
            "needs_background": "light"
          }
        }
      ]
    },
    {
      "cell_type": "markdown",
      "metadata": {
        "id": "A33CNVA0CRt7"
      },
      "source": [
        "In 8 epochs, from left to right we can see that how our predictions are improving with a constant lr=1e-5"
      ]
    },
    {
      "cell_type": "markdown",
      "metadata": {
        "id": "zoQz0f58EK9L"
      },
      "source": [
        "# 2) A simple Logistic Regression Class"
      ]
    },
    {
      "cell_type": "code",
      "metadata": {
        "id": "x5PEsPBsELHv"
      },
      "source": [
        "class LogisticRegression():\n",
        "  def __init__(self) : pass  \n",
        "   \n",
        "  def get_params(self,size) -> torch.LongTensor: return torch.randn(size).requires_grad_()\n",
        "\n",
        "  def sigmoid(self,x) : return 1/(1+torch.exp(-x))\n",
        "\n",
        "  def mse_loss(self,predictions,targets) -> torch.LongTensor: return torch.where(targets==1, 1-predictions, predictions).mean() \n",
        "  \n",
        "  def fit(self,x,y,epochs,bs,lr,trim=False):\n",
        "    dset = list(zip(x,y))\n",
        "    n_batches = int(len(dset)/bs)\n",
        "    if (trim==False) : n_mini_batches= n_batches+int(len(dset)%bs)\n",
        "    weights = self.get_params(x.shape[1])\n",
        "    bias = self.get_params(1)\n",
        "    for e in range(epochs):\n",
        "      for i in range(n_mini_batches):\n",
        "        if(i == n_mini_batches-1) : xb = x[i*bs:]\n",
        "        else : xb = x[i*bs:(i+1)*bs]\n",
        "        preds = self.sigmoid(x@weights + bias)\n",
        "        loss = self.mse_loss(preds,y)\n",
        "        loss.backward()\n",
        "        weights.data -= weights.grad.data*lr  \n",
        "        bias.data -= bias.grad.data*lr  \n",
        "        weights.grad = None\n",
        "        bias.grad = None\n",
        "      print(f\"Epoch_{e}_accuracy = \",((preds>=0.5)==y).float().mean().item())\n",
        "\n",
        "\n",
        "  def predict(self,x):\n",
        "    return x*weights + bias\n"
      ],
      "execution_count": 12,
      "outputs": []
    },
    {
      "cell_type": "markdown",
      "metadata": {
        "id": "zJ4zOiZ6KA5X"
      },
      "source": [
        "#3) Experimenting with MNIST :\n",
        "\n",
        "\n"
      ]
    },
    {
      "cell_type": "code",
      "metadata": {
        "colab": {
          "base_uri": "https://localhost:8080/"
        },
        "id": "GzcBej0QLI-9",
        "outputId": "495a2bc6-5ee8-4495-ea7d-f2160b74731e"
      },
      "source": [
        "#hide\n",
        "!pip install -Uqq fastbook\n",
        "import fastbook\n",
        "fastbook.setup_book()\n",
        "from fastai.vision.all import *\n",
        "from fastbook import *\n",
        "matplotlib.rc('image', cmap='Greys')"
      ],
      "execution_count": 1,
      "outputs": [
        {
          "output_type": "stream",
          "name": "stdout",
          "text": [
            "\u001b[K     |████████████████████████████████| 720 kB 6.7 MB/s \n",
            "\u001b[K     |████████████████████████████████| 1.2 MB 44.6 MB/s \n",
            "\u001b[K     |████████████████████████████████| 186 kB 60.5 MB/s \n",
            "\u001b[K     |████████████████████████████████| 46 kB 3.4 MB/s \n",
            "\u001b[K     |████████████████████████████████| 56 kB 3.1 MB/s \n",
            "\u001b[K     |████████████████████████████████| 51 kB 212 kB/s \n",
            "\u001b[?25hMounted at /content/gdrive\n"
          ]
        }
      ]
    },
    {
      "cell_type": "code",
      "metadata": {
        "colab": {
          "base_uri": "https://localhost:8080/",
          "height": 37
        },
        "id": "tBmfMgn1LQtc",
        "outputId": "7d6cc5bf-0e65-49bf-ab3b-60994cd515c2"
      },
      "source": [
        "#hide\n",
        "path = untar_data(URLs.MNIST_SAMPLE)\n",
        "Path.BASE_PATH = path"
      ],
      "execution_count": 5,
      "outputs": [
        {
          "output_type": "display_data",
          "data": {
            "text/html": [
              "\n",
              "    <div>\n",
              "        <style>\n",
              "            /* Turns off some styling */\n",
              "            progress {\n",
              "                /* gets rid of default border in Firefox and Opera. */\n",
              "                border: none;\n",
              "                /* Needs to be in here for Safari polyfill so background images work as expected. */\n",
              "                background-size: auto;\n",
              "            }\n",
              "            .progress-bar-interrupted, .progress-bar-interrupted::-webkit-progress-bar {\n",
              "                background: #F44336;\n",
              "            }\n",
              "        </style>\n",
              "      <progress value='3219456' class='' max='3214948' style='width:300px; height:20px; vertical-align: middle;'></progress>\n",
              "      100.14% [3219456/3214948 00:00<00:00]\n",
              "    </div>\n",
              "    "
            ],
            "text/plain": [
              "<IPython.core.display.HTML object>"
            ]
          },
          "metadata": {}
        }
      ]
    },
    {
      "cell_type": "code",
      "metadata": {
        "colab": {
          "base_uri": "https://localhost:8080/"
        },
        "id": "uSQOVqKuL0pJ",
        "outputId": "b3a92658-18e9-4bb7-8b5b-9dd0f5256823"
      },
      "source": [
        "#hide\n",
        "path.ls()"
      ],
      "execution_count": 6,
      "outputs": [
        {
          "output_type": "execute_result",
          "data": {
            "text/plain": [
              "(#3) [Path('train'),Path('valid'),Path('labels.csv')]"
            ]
          },
          "metadata": {},
          "execution_count": 6
        }
      ]
    },
    {
      "cell_type": "code",
      "metadata": {
        "colab": {
          "base_uri": "https://localhost:8080/"
        },
        "id": "1qHB_keFSWFM",
        "outputId": "872bb6ed-4fe2-4fa8-ef37-c81c3783de79"
      },
      "source": [
        "(path/'train').ls()"
      ],
      "execution_count": 7,
      "outputs": [
        {
          "output_type": "execute_result",
          "data": {
            "text/plain": [
              "(#2) [Path('train/3'),Path('train/7')]"
            ]
          },
          "metadata": {},
          "execution_count": 7
        }
      ]
    },
    {
      "cell_type": "code",
      "metadata": {
        "colab": {
          "base_uri": "https://localhost:8080/"
        },
        "id": "yYUu8GJdSzcG",
        "outputId": "11a52fd0-4f0a-463c-e9da-b9d6793bf6e6"
      },
      "source": [
        "(path/'valid').ls()"
      ],
      "execution_count": 8,
      "outputs": [
        {
          "output_type": "execute_result",
          "data": {
            "text/plain": [
              "(#2) [Path('valid/3'),Path('valid/7')]"
            ]
          },
          "metadata": {},
          "execution_count": 8
        }
      ]
    },
    {
      "cell_type": "code",
      "metadata": {
        "id": "91m3oRhDTEdN"
      },
      "source": [
        "#hide\n",
        "train_3_tens = torch.stack([tensor(Image.open(o)) \n",
        "                            for o in (path/'train'/'3').ls()])\n",
        "train_3_tens = train_3_tens.float()/255\n",
        "train_7_tens = torch.stack([tensor(Image.open(o)) \n",
        "                            for o in (path/'train'/'7').ls()])\n",
        "train_7_tens = train_7_tens.float()/255"
      ],
      "execution_count": 9,
      "outputs": []
    },
    {
      "cell_type": "code",
      "metadata": {
        "id": "Ge_s7IKwUADM"
      },
      "source": [
        "#hide\n",
        "valid_3_tens = torch.stack([tensor(Image.open(o)) \n",
        "                            for o in (path/'valid'/'3').ls()])\n",
        "valid_3_tens = valid_3_tens.float()/255\n",
        "valid_7_tens = torch.stack([tensor(Image.open(o)) \n",
        "                            for o in (path/'valid'/'7').ls()])\n",
        "valid_7_tens = valid_7_tens.float()/255"
      ],
      "execution_count": 11,
      "outputs": []
    },
    {
      "cell_type": "code",
      "metadata": {
        "id": "qsMHfcBXUqg-"
      },
      "source": [
        "train_x = torch.cat([train_3_tens, train_7_tens]).view(-1, 28*28)\n",
        "valid_x = torch.cat([valid_3_tens, valid_7_tens]).view(-1, 28*28)\n",
        "train_y = tensor([1]*len(train_3_tens) + [0]*len(train_7_tens)).unsqueeze(1)\n",
        "valid_y = tensor([1]*len(valid_3_tens) + [0]*len(valid_7_tens)).unsqueeze(1)"
      ],
      "execution_count": 12,
      "outputs": []
    },
    {
      "cell_type": "code",
      "metadata": {
        "colab": {
          "base_uri": "https://localhost:8080/"
        },
        "id": "aI663qteU1HN",
        "outputId": "b35b2775-f00b-4670-d730-567921c33e3d"
      },
      "source": [
        "train_x.shape, valid_x.shape"
      ],
      "execution_count": 10,
      "outputs": [
        {
          "output_type": "execute_result",
          "data": {
            "text/plain": [
              "(torch.Size([12396, 784]), torch.Size([2038, 784]))"
            ]
          },
          "metadata": {},
          "execution_count": 10
        }
      ]
    },
    {
      "cell_type": "code",
      "metadata": {
        "id": "lSXFni-XVVzU"
      },
      "source": [
        "m = LogisticRegression()"
      ],
      "execution_count": 13,
      "outputs": []
    },
    {
      "cell_type": "code",
      "metadata": {
        "colab": {
          "base_uri": "https://localhost:8080/"
        },
        "id": "b1zmzv-nVtHg",
        "outputId": "2e1c4c3c-c8e7-4402-cf8b-04a0de0a6727"
      },
      "source": [
        "m.fit(x=train_x,y=train_y,bs=100,lr=1e-5,epochs=10)"
      ],
      "execution_count": 14,
      "outputs": [
        {
          "output_type": "stream",
          "name": "stdout",
          "text": [
            "Epoch_0_accuracy =  0.5040026903152466\n",
            "Epoch_1_accuracy =  0.5040026903152466\n",
            "Epoch_2_accuracy =  0.5040026903152466\n",
            "Epoch_3_accuracy =  0.5040026903152466\n",
            "Epoch_4_accuracy =  0.5040026903152466\n",
            "Epoch_5_accuracy =  0.5040026903152466\n",
            "Epoch_6_accuracy =  0.5040026903152466\n",
            "Epoch_7_accuracy =  0.5040026903152466\n",
            "Epoch_8_accuracy =  0.5040026903152466\n",
            "Epoch_9_accuracy =  0.5040026903152466\n"
          ]
        }
      ]
    },
    {
      "cell_type": "markdown",
      "metadata": {
        "id": "7pV7OUjzVtO0"
      },
      "source": [
        "Putting it Altogether - Using Fastai Dataloaders !\n"
      ]
    },
    {
      "cell_type": "code",
      "metadata": {
        "id": "jGZTL_5yVtTZ"
      },
      "source": [
        "train_dset = list(zip(train_x,train_y))\n",
        "valid_dset = list(zip(valid_x,valid_y))"
      ],
      "execution_count": 13,
      "outputs": []
    },
    {
      "cell_type": "markdown",
      "metadata": {
        "id": "W4cg5BKyVtYB"
      },
      "source": [
        " > Note: Now we will use fastai Dataloaders for to Load Data in mini-batches rathar than a single row in SGD. Just To say \n",
        " * Dataset - A list of tuples each tuple of form -> $(x_i,y_i)$\n",
        " * DataLoader - An Iterable/List of Minibatches where each minibatch is of the form $tuple(tensor(x_1,x_2,...,x_b), (y_1,y_2,...,y_b))$.\n",
        "\n"
      ]
    },
    {
      "cell_type": "code",
      "metadata": {
        "id": "PNnbwugQXijy"
      },
      "source": [
        ""
      ],
      "execution_count": null,
      "outputs": []
    }
  ]
}